{
 "cells": [
  {
   "cell_type": "code",
   "execution_count": 1,
   "metadata": {},
   "outputs": [],
   "source": [
    "import os \n",
    "import sys \n",
    "sys.path.append(\"../src\")\n",
    "\n",
    "import torch\n",
    "import torch.nn as nn \n",
    "import numpy as np\n",
    "\n",
    "from utils import seed, copy_weights, forall\n",
    "from GatedConv2d import GatedConv2d\n",
    "from GatedLinear import GatedLinear\n",
    "\n",
    "from TestGatedConv import TestGatedConv"
   ]
  },
  {
   "cell_type": "markdown",
   "metadata": {},
   "source": [
    "## Check if fresh `GatedConv2d` gives same output as `nn.Conv2d`\n"
   ]
  },
  {
   "cell_type": "code",
   "execution_count": 2,
   "metadata": {},
   "outputs": [
    {
     "ename": "TypeError",
     "evalue": "cannot assign 'torch.FloatTensor' as parameter 'weight' (torch.nn.Parameter or None expected)",
     "output_type": "error",
     "traceback": [
      "\u001b[1;31m---------------------------------------------------------------------------\u001b[0m",
      "\u001b[1;31mTypeError\u001b[0m                                 Traceback (most recent call last)",
      "\u001b[1;32m<ipython-input-2-fa700cda4577>\u001b[0m in \u001b[0;36m<module>\u001b[1;34m\u001b[0m\n\u001b[0;32m      2\u001b[0m \u001b[1;31m#glin = GatedLinear(100, 100, bias=True)\u001b[0m\u001b[1;33m\u001b[0m\u001b[1;33m\u001b[0m\u001b[1;33m\u001b[0m\u001b[0m\n\u001b[0;32m      3\u001b[0m \u001b[1;31m#gConv = TestGatedConv(16, 33, 3, bias=True)\u001b[0m\u001b[1;33m\u001b[0m\u001b[1;33m\u001b[0m\u001b[1;33m\u001b[0m\u001b[0m\n\u001b[1;32m----> 4\u001b[1;33m \u001b[0mgConv\u001b[0m \u001b[1;33m=\u001b[0m \u001b[0mGatedConv2d\u001b[0m\u001b[1;33m(\u001b[0m\u001b[1;36m16\u001b[0m\u001b[1;33m,\u001b[0m \u001b[1;36m33\u001b[0m\u001b[1;33m,\u001b[0m \u001b[1;36m3\u001b[0m\u001b[1;33m,\u001b[0m \u001b[0mbias\u001b[0m\u001b[1;33m=\u001b[0m\u001b[1;32mTrue\u001b[0m\u001b[1;33m)\u001b[0m\u001b[1;33m\u001b[0m\u001b[1;33m\u001b[0m\u001b[0m\n\u001b[0m\u001b[0;32m      5\u001b[0m \u001b[0mseed\u001b[0m\u001b[1;33m(\u001b[0m\u001b[1;36m0\u001b[0m\u001b[1;33m)\u001b[0m\u001b[1;33m\u001b[0m\u001b[1;33m\u001b[0m\u001b[0m\n\u001b[0;32m      6\u001b[0m \u001b[1;31m#lin = nn.Linear(100, 100, bias=True)|\u001b[0m\u001b[1;33m\u001b[0m\u001b[1;33m\u001b[0m\u001b[1;33m\u001b[0m\u001b[0m\n",
      "\u001b[1;32m~\\Documents\\EE 5239 Nonlinear\\Project\\maskedmeta\\src\\GatedConv2d.py\u001b[0m in \u001b[0;36m__init__\u001b[1;34m(self, in_channels, out_channels, kernel_size, stride, padding, dilation, groups, bias, padding_mode)\u001b[0m\n\u001b[0;32m     37\u001b[0m             (out_channels, in_channels), bias, constant=0)\n\u001b[0;32m     38\u001b[0m \u001b[1;33m\u001b[0m\u001b[0m\n\u001b[1;32m---> 39\u001b[1;33m         \u001b[0mself\u001b[0m\u001b[1;33m.\u001b[0m\u001b[0mweight\u001b[0m \u001b[1;33m=\u001b[0m \u001b[0mself\u001b[0m\u001b[1;33m.\u001b[0m\u001b[0mweight\u001b[0m \u001b[1;33m*\u001b[0m \u001b[1;36m2\u001b[0m\u001b[1;33m\u001b[0m\u001b[1;33m\u001b[0m\u001b[0m\n\u001b[0m\u001b[0;32m     40\u001b[0m         \u001b[1;32mif\u001b[0m \u001b[0mself\u001b[0m\u001b[1;33m.\u001b[0m\u001b[0mbias\u001b[0m\u001b[1;33m:\u001b[0m\u001b[1;33m\u001b[0m\u001b[1;33m\u001b[0m\u001b[0m\n\u001b[0;32m     41\u001b[0m             \u001b[0mself\u001b[0m\u001b[1;33m.\u001b[0m\u001b[0mbias\u001b[0m \u001b[1;33m=\u001b[0m \u001b[0mself\u001b[0m\u001b[1;33m.\u001b[0m\u001b[0mbias\u001b[0m \u001b[1;33m*\u001b[0m \u001b[1;36m2\u001b[0m\u001b[1;33m\u001b[0m\u001b[1;33m\u001b[0m\u001b[0m\n",
      "\u001b[1;32mC:\\ProgramData\\Anaconda3\\lib\\site-packages\\torch\\nn\\modules\\module.py\u001b[0m in \u001b[0;36m__setattr__\u001b[1;34m(self, name, value)\u001b[0m\n\u001b[0;32m    790\u001b[0m         \u001b[1;32melif\u001b[0m \u001b[0mparams\u001b[0m \u001b[1;32mis\u001b[0m \u001b[1;32mnot\u001b[0m \u001b[1;32mNone\u001b[0m \u001b[1;32mand\u001b[0m \u001b[0mname\u001b[0m \u001b[1;32min\u001b[0m \u001b[0mparams\u001b[0m\u001b[1;33m:\u001b[0m\u001b[1;33m\u001b[0m\u001b[1;33m\u001b[0m\u001b[0m\n\u001b[0;32m    791\u001b[0m             \u001b[1;32mif\u001b[0m \u001b[0mvalue\u001b[0m \u001b[1;32mis\u001b[0m \u001b[1;32mnot\u001b[0m \u001b[1;32mNone\u001b[0m\u001b[1;33m:\u001b[0m\u001b[1;33m\u001b[0m\u001b[1;33m\u001b[0m\u001b[0m\n\u001b[1;32m--> 792\u001b[1;33m                 raise TypeError(\"cannot assign '{}' as parameter '{}' \"\n\u001b[0m\u001b[0;32m    793\u001b[0m                                 \u001b[1;34m\"(torch.nn.Parameter or None expected)\"\u001b[0m\u001b[1;33m\u001b[0m\u001b[1;33m\u001b[0m\u001b[0m\n\u001b[0;32m    794\u001b[0m                                 .format(torch.typename(value), name))\n",
      "\u001b[1;31mTypeError\u001b[0m: cannot assign 'torch.FloatTensor' as parameter 'weight' (torch.nn.Parameter or None expected)"
     ]
    }
   ],
   "source": [
    "seed(0)\n",
    "#glin = GatedLinear(100, 100, bias=True)\n",
    "#gConv = TestGatedConv(16, 33, 3, bias=True)\n",
    "gConv = GatedConv2d(16, 33, 3, bias=True)\n",
    "seed(0)\n",
    "#lin = nn.Linear(100, 100, bias=True)|\n",
    "rConv = nn.Conv2d(16, 33, 3, bias=True)\n",
    "#randvec = torch.rand((100, 100))\n",
    "randvec = torch.randn(20, 16, 50, 100)\n",
    "assert torch.all(torch.eq(gConv(randvec), rConv(randvec)))"
   ]
  },
  {
   "cell_type": "markdown",
   "metadata": {},
   "source": [
    "## Check if `copy_weights` shares weights but not masks"
   ]
  },
  {
   "cell_type": "code",
   "execution_count": 6,
   "metadata": {},
   "outputs": [],
   "source": [
    "# initialize 2 linear layers\n",
    "glin1 = GatedLinear(100, 100, bias=True)\n",
    "glin2 = GatedLinear(100, 100, bias=True)"
   ]
  },
  {
   "cell_type": "code",
   "execution_count": 7,
   "metadata": {},
   "outputs": [],
   "source": [
    "# save their initial parameters\n",
    "def save_W_params(model):\n",
    "    return [model.WW.detach().numpy().copy(), model.bW.detach().numpy().copy()]\n",
    "\n",
    "def save_M_params(model):\n",
    "    return [model.WM.detach().numpy().copy(), model.bM.detach().numpy().copy()]\n",
    "\n",
    "glin1_save_M, glin1_save_W = save_M_params(glin1), save_W_params(glin1)\n",
    "glin2_save_M, glin2_save_W = save_M_params(glin2), save_W_params(glin2)"
   ]
  },
  {
   "cell_type": "code",
   "execution_count": 8,
   "metadata": {},
   "outputs": [],
   "source": [
    "assert forall(lambda p1, p2: p1 != p2, glin1_save_W, glin2_save_W) # weights are not the same\n",
    "assert forall(lambda p1, p2: p1 == p2, glin1_save_M, glin2_save_M) # masks are the same"
   ]
  },
  {
   "cell_type": "code",
   "execution_count": 9,
   "metadata": {},
   "outputs": [],
   "source": [
    "copy_weights(glin1, glin2) # copy weights ONLY\n",
    "glin2_save_M, glin2_save_W = save_M_params(glin2), save_W_params(glin2) # update saved weights\n",
    "assert forall(lambda p1, p2: p1 == p2, glin1_save_W, glin2_save_W) # saved weights are the same\n",
    "assert forall(lambda p1, p2: p1 == p2, glin1_save_M, glin2_save_M) # saved masks are the same"
   ]
  },
  {
   "cell_type": "code",
   "execution_count": 10,
   "metadata": {},
   "outputs": [],
   "source": [
    "# do a couple of steps of gradient descent on both\n",
    "dummy_x = torch.ones((1, 100))\n",
    "dummy_y1 = torch.ones((1, 100))\n",
    "dummy_y2 = torch.zeros((1, 100))\n",
    "\n",
    "optim1 = torch.optim.Adam(glin1.parameters(), lr=1)\n",
    "optim2 = torch.optim.Adam(glin2.parameters(), lr=1)\n",
    "criterion = torch.nn.MSELoss()\n",
    "\n",
    "for _ in range(3):\n",
    "    optim1.zero_grad()\n",
    "    optim2.zero_grad()\n",
    "    # gradient descent on first model\n",
    "    y_hat = glin1(dummy_x)\n",
    "    loss = criterion(y_hat, dummy_y1)\n",
    "    loss.backward()\n",
    "    \n",
    "    # gradient descent on the second model\n",
    "    y_hat = glin2(dummy_x)\n",
    "    loss = criterion(y_hat, dummy_y2)\n",
    "    loss.backward()\n",
    "    \n",
    "    optim1.step()\n",
    "    optim2.step()"
   ]
  },
  {
   "cell_type": "code",
   "execution_count": 11,
   "metadata": {},
   "outputs": [],
   "source": [
    "glin1_new_M, glin1_new_W = save_M_params(glin1), save_W_params(glin1) # update saved weights\n",
    "glin2_new_M, glin2_new_W = save_M_params(glin2), save_W_params(glin2) # update saved weights\n",
    "\n",
    "# all weights should have changed in both models\n",
    "assert forall(lambda p1, p2: p1 != p2, glin1_save_W + glin1_save_M, glin1_new_W + glin1_new_M)\n",
    "assert forall(lambda p1, p2: p1 != p2, glin2_save_W + glin2_save_M, glin2_new_W + glin2_new_M)\n",
    "\n",
    "assert forall(lambda p1, p2: p1 != p2, glin1_new_M, glin2_new_M) # masks should be different\n",
    "assert forall(lambda p1, p2: p1 == p2, glin1_new_W, glin2_new_W) # weights should be shared"
   ]
  }
 ],
 "metadata": {
  "kernelspec": {
   "display_name": "Python 3",
   "language": "python",
   "name": "python3"
  },
  "language_info": {
   "codemirror_mode": {
    "name": "ipython",
    "version": 3
   },
   "file_extension": ".py",
   "mimetype": "text/x-python",
   "name": "python",
   "nbconvert_exporter": "python",
   "pygments_lexer": "ipython3",
   "version": "3.8.3"
  }
 },
 "nbformat": 4,
 "nbformat_minor": 4
}

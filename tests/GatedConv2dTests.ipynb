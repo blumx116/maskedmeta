{
 "cells": [
  {
   "cell_type": "code",
   "execution_count": 12,
   "metadata": {},
   "outputs": [],
   "source": [
    "import os \n",
    "import sys \n",
    "sys.path.append(\"../src\")\n",
    "\n",
    "import torch\n",
    "import torch.nn as nn \n",
    "import numpy as np\n",
    "\n",
    "from utils import seed, copy_weights, forall\n",
    "from GatedConv2d import GatedConv2d\n",
    "from GatedLinear import GatedLinear"
   ]
  },
  {
   "cell_type": "markdown",
   "metadata": {},
   "source": [
    "## Check if fresh `GatedConv2d` gives same output as `nn.Conv2d`\n"
   ]
  },
  {
   "cell_type": "code",
   "execution_count": 37,
   "metadata": {},
   "outputs": [
    {
     "ename": "RuntimeError",
     "evalue": "Boolean value of Tensor with more than one value is ambiguous",
     "output_type": "error",
     "traceback": [
      "\u001b[1;31m---------------------------------------------------------------------------\u001b[0m",
      "\u001b[1;31mRuntimeError\u001b[0m                              Traceback (most recent call last)",
      "\u001b[1;32m<ipython-input-37-9790b72391e1>\u001b[0m in \u001b[0;36m<module>\u001b[1;34m\u001b[0m\n\u001b[0;32m      1\u001b[0m \u001b[0mseed\u001b[0m\u001b[1;33m(\u001b[0m\u001b[1;36m0\u001b[0m\u001b[1;33m)\u001b[0m\u001b[1;33m\u001b[0m\u001b[1;33m\u001b[0m\u001b[0m\n\u001b[0;32m      2\u001b[0m \u001b[1;31m#glin = GatedLinear(100, 100, bias=True)\u001b[0m\u001b[1;33m\u001b[0m\u001b[1;33m\u001b[0m\u001b[1;33m\u001b[0m\u001b[0m\n\u001b[1;32m----> 3\u001b[1;33m \u001b[0mgConv\u001b[0m \u001b[1;33m=\u001b[0m \u001b[0mGatedConv2d\u001b[0m\u001b[1;33m(\u001b[0m\u001b[1;36m16\u001b[0m\u001b[1;33m,\u001b[0m \u001b[1;36m33\u001b[0m\u001b[1;33m,\u001b[0m \u001b[1;36m3\u001b[0m\u001b[1;33m,\u001b[0m \u001b[0mbias\u001b[0m\u001b[1;33m=\u001b[0m\u001b[1;32mTrue\u001b[0m\u001b[1;33m)\u001b[0m\u001b[1;33m\u001b[0m\u001b[1;33m\u001b[0m\u001b[0m\n\u001b[0m\u001b[0;32m      4\u001b[0m \u001b[0mseed\u001b[0m\u001b[1;33m(\u001b[0m\u001b[1;36m0\u001b[0m\u001b[1;33m)\u001b[0m\u001b[1;33m\u001b[0m\u001b[1;33m\u001b[0m\u001b[0m\n\u001b[0;32m      5\u001b[0m \u001b[1;31m#lin = nn.Linear(100, 100, bias=True)\u001b[0m\u001b[1;33m\u001b[0m\u001b[1;33m\u001b[0m\u001b[1;33m\u001b[0m\u001b[0m\n",
      "\u001b[1;32m~\\Documents\\EE 5239 Nonlinear\\Project\\maskedmeta\\src\\GatedConv2d.py\u001b[0m in \u001b[0;36m__init__\u001b[1;34m(self, in_channels, out_channels, kernel_size, stride, padding, dilation, groups, bias, padding_mode)\u001b[0m\n\u001b[0;32m     32\u001b[0m             (out_channels, in_channels), bias, constant=0)\n\u001b[0;32m     33\u001b[0m \u001b[1;33m\u001b[0m\u001b[0m\n\u001b[1;32m---> 34\u001b[1;33m         super(GatedConv2d, self).__init__(\n\u001b[0m\u001b[0;32m     35\u001b[0m             \u001b[0min_channels\u001b[0m\u001b[1;33m,\u001b[0m \u001b[0mout_channels\u001b[0m\u001b[1;33m,\u001b[0m \u001b[0mkernel_size\u001b[0m\u001b[1;33m,\u001b[0m \u001b[0mstride\u001b[0m\u001b[1;33m,\u001b[0m \u001b[0mpadding\u001b[0m\u001b[1;33m,\u001b[0m \u001b[0mdilation\u001b[0m\u001b[1;33m,\u001b[0m\u001b[1;33m\u001b[0m\u001b[1;33m\u001b[0m\u001b[0m\n\u001b[0;32m     36\u001b[0m             False, _pair(0), groups, bias, padding_mode)    \n",
      "\u001b[1;32m~\\Documents\\EE 5239 Nonlinear\\Project\\maskedmeta\\src\\GatedConv2d.py\u001b[0m in \u001b[0;36mconstant_initialize\u001b[1;34m(shape, bias, constant)\u001b[0m\n\u001b[0;32m     50\u001b[0m     def constant_initialize(\n\u001b[0;32m     51\u001b[0m             \u001b[0mshape\u001b[0m\u001b[1;33m:\u001b[0m \u001b[0mTuple\u001b[0m\u001b[1;33m[\u001b[0m\u001b[0mint\u001b[0m\u001b[1;33m,\u001b[0m \u001b[0mint\u001b[0m\u001b[1;33m]\u001b[0m\u001b[1;33m,\u001b[0m\u001b[1;33m\u001b[0m\u001b[1;33m\u001b[0m\u001b[0m\n\u001b[1;32m---> 52\u001b[1;33m             \u001b[0mbias\u001b[0m\u001b[1;33m:\u001b[0m \u001b[0mbool\u001b[0m\u001b[1;33m,\u001b[0m\u001b[1;33m\u001b[0m\u001b[1;33m\u001b[0m\u001b[0m\n\u001b[0m\u001b[0;32m     53\u001b[0m             constant: float) -> Tuple[torch.Tensor, torch.Tensor]:\n\u001b[0;32m     54\u001b[0m         \u001b[0mW\u001b[0m \u001b[1;33m=\u001b[0m \u001b[0mnn\u001b[0m\u001b[1;33m.\u001b[0m\u001b[0mParameter\u001b[0m\u001b[1;33m(\u001b[0m\u001b[0mtorch\u001b[0m\u001b[1;33m.\u001b[0m\u001b[0mTensor\u001b[0m\u001b[1;33m(\u001b[0m\u001b[1;33m*\u001b[0m\u001b[0mshape\u001b[0m\u001b[1;33m)\u001b[0m\u001b[1;33m)\u001b[0m\u001b[1;33m\u001b[0m\u001b[1;33m\u001b[0m\u001b[0m\n",
      "\u001b[1;31mRuntimeError\u001b[0m: Boolean value of Tensor with more than one value is ambiguous"
     ]
    }
   ],
   "source": [
    "seed(0)\n",
    "#glin = GatedLinear(100, 100, bias=True)\n",
    "gConv = GatedConv2d(16, 33, 3, bias=True)\n",
    "seed(0)\n",
    "#lin = nn.Linear(100, 100, bias=True)\n",
    "rConv = nn.Conv2d(16, 33, 3, bias=True)\n",
    "#randvec = torch.rand((100, 100))\n",
    "randvec = torch.randn(20, 16, 50, 100)\n",
    "assert torch.all(torch.eq(gConv(randvec), rConv(randvec)))"
   ]
  },
  {
   "cell_type": "markdown",
   "metadata": {},
   "source": [
    "## Check if `copy_weights` shares weights but not masks"
   ]
  },
  {
   "cell_type": "code",
   "execution_count": 6,
   "metadata": {},
   "outputs": [],
   "source": [
    "# initialize 2 linear layers\n",
    "glin1 = GatedLinear(100, 100, bias=True)\n",
    "glin2 = GatedLinear(100, 100, bias=True)"
   ]
  },
  {
   "cell_type": "code",
   "execution_count": 7,
   "metadata": {},
   "outputs": [],
   "source": [
    "# save their initial parameters\n",
    "def save_W_params(model):\n",
    "    return [model.WW.detach().numpy().copy(), model.bW.detach().numpy().copy()]\n",
    "\n",
    "def save_M_params(model):\n",
    "    return [model.WM.detach().numpy().copy(), model.bM.detach().numpy().copy()]\n",
    "\n",
    "glin1_save_M, glin1_save_W = save_M_params(glin1), save_W_params(glin1)\n",
    "glin2_save_M, glin2_save_W = save_M_params(glin2), save_W_params(glin2)"
   ]
  },
  {
   "cell_type": "code",
   "execution_count": 8,
   "metadata": {},
   "outputs": [],
   "source": [
    "assert forall(lambda p1, p2: p1 != p2, glin1_save_W, glin2_save_W) # weights are not the same\n",
    "assert forall(lambda p1, p2: p1 == p2, glin1_save_M, glin2_save_M) # masks are the same"
   ]
  },
  {
   "cell_type": "code",
   "execution_count": 9,
   "metadata": {},
   "outputs": [],
   "source": [
    "copy_weights(glin1, glin2) # copy weights ONLY\n",
    "glin2_save_M, glin2_save_W = save_M_params(glin2), save_W_params(glin2) # update saved weights\n",
    "assert forall(lambda p1, p2: p1 == p2, glin1_save_W, glin2_save_W) # saved weights are the same\n",
    "assert forall(lambda p1, p2: p1 == p2, glin1_save_M, glin2_save_M) # saved masks are the same"
   ]
  },
  {
   "cell_type": "code",
   "execution_count": 10,
   "metadata": {},
   "outputs": [],
   "source": [
    "# do a couple of steps of gradient descent on both\n",
    "dummy_x = torch.ones((1, 100))\n",
    "dummy_y1 = torch.ones((1, 100))\n",
    "dummy_y2 = torch.zeros((1, 100))\n",
    "\n",
    "optim1 = torch.optim.Adam(glin1.parameters(), lr=1)\n",
    "optim2 = torch.optim.Adam(glin2.parameters(), lr=1)\n",
    "criterion = torch.nn.MSELoss()\n",
    "\n",
    "for _ in range(3):\n",
    "    optim1.zero_grad()\n",
    "    optim2.zero_grad()\n",
    "    # gradient descent on first model\n",
    "    y_hat = glin1(dummy_x)\n",
    "    loss = criterion(y_hat, dummy_y1)\n",
    "    loss.backward()\n",
    "    \n",
    "    # gradient descent on the second model\n",
    "    y_hat = glin2(dummy_x)\n",
    "    loss = criterion(y_hat, dummy_y2)\n",
    "    loss.backward()\n",
    "    \n",
    "    optim1.step()\n",
    "    optim2.step()"
   ]
  },
  {
   "cell_type": "code",
   "execution_count": 11,
   "metadata": {},
   "outputs": [],
   "source": [
    "glin1_new_M, glin1_new_W = save_M_params(glin1), save_W_params(glin1) # update saved weights\n",
    "glin2_new_M, glin2_new_W = save_M_params(glin2), save_W_params(glin2) # update saved weights\n",
    "\n",
    "# all weights should have changed in both models\n",
    "assert forall(lambda p1, p2: p1 != p2, glin1_save_W + glin1_save_M, glin1_new_W + glin1_new_M)\n",
    "assert forall(lambda p1, p2: p1 != p2, glin2_save_W + glin2_save_M, glin2_new_W + glin2_new_M)\n",
    "\n",
    "assert forall(lambda p1, p2: p1 != p2, glin1_new_M, glin2_new_M) # masks should be different\n",
    "assert forall(lambda p1, p2: p1 == p2, glin1_new_W, glin2_new_W) # weights should be shared"
   ]
  }
 ],
 "metadata": {
  "kernelspec": {
   "display_name": "Python 3",
   "language": "python",
   "name": "python3"
  },
  "language_info": {
   "codemirror_mode": {
    "name": "ipython",
    "version": 3
   },
   "file_extension": ".py",
   "mimetype": "text/x-python",
   "name": "python",
   "nbconvert_exporter": "python",
   "pygments_lexer": "ipython3",
   "version": "3.8.3"
  }
 },
 "nbformat": 4,
 "nbformat_minor": 4
}

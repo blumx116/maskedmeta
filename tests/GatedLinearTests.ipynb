{
 "metadata": {
  "language_info": {
   "codemirror_mode": {
    "name": "ipython",
    "version": 3
   },
   "file_extension": ".py",
   "mimetype": "text/x-python",
   "name": "python",
   "nbconvert_exporter": "python",
   "pygments_lexer": "ipython3",
   "version": "3.8.5-final"
  },
  "orig_nbformat": 2,
  "kernelspec": {
   "name": "python3",
   "language": "python",
   "display_name": "Python 3"
  }
 },
 "nbformat": 4,
 "nbformat_minor": 2,
 "cells": [
  {
   "cell_type": "code",
   "execution_count": 1,
   "metadata": {},
   "outputs": [],
   "source": [
    "import os \n",
    "import sys \n",
    "sys.path.append(\"../src\")\n",
    "\n",
    "import torch\n",
    "import torch.nn as nn \n",
    "import numpy as np\n",
    "\n",
    "from utils import seed, copy_weights, forall\n",
    "from GatedLinear import GatedLinear"
   ]
  },
  {
   "source": [
    "## Check if fresh `GatedLinear` gives same output as `nn.Linear`\n"
   ],
   "cell_type": "markdown",
   "metadata": {}
  },
  {
   "cell_type": "code",
   "execution_count": 2,
   "metadata": {},
   "outputs": [],
   "source": [
    "seed(0)\n",
    "glin = GatedLinear(100, 100, bias=True)\n",
    "seed(0)\n",
    "lin = nn.Linear(100, 100, bias=True)\n",
    "randvec = torch.rand((100, 100))\n",
    "assert torch.all(torch.eq(glin(randvec), lin(randvec)))"
   ]
  },
  {
   "source": [
    "## Check if `copy_weights` shares weights but not masks"
   ],
   "cell_type": "markdown",
   "metadata": {}
  },
  {
   "cell_type": "code",
   "execution_count": 3,
   "metadata": {},
   "outputs": [],
   "source": [
    "# initialize 2 linear layers\n",
    "glin1 = GatedLinear(100, 100, bias=True)\n",
    "glin2 = GatedLinear(100, 100, bias=True)"
   ]
  },
  {
   "cell_type": "code",
   "execution_count": 4,
   "metadata": {},
   "outputs": [],
   "source": [
    "# save their initial parameters\n",
    "def save_W_params(model):\n",
    "    return [model.WW.detach().numpy().copy(), model.bW.detach().numpy().copy()]\n",
    "\n",
    "def save_M_params(model):\n",
    "    return [model.WM.detach().numpy().copy(), model.bM.detach().numpy().copy()]\n",
    "\n",
    "glin1_save_M, glin1_save_W = save_M_params(glin1), save_W_params(glin1)\n",
    "glin2_save_M, glin2_save_W = save_M_params(glin2), save_W_params(glin2)"
   ]
  },
  {
   "cell_type": "code",
   "execution_count": 5,
   "metadata": {},
   "outputs": [],
   "source": [
    "assert forall(lambda p1, p2: p1 != p2, glin1_save_W, glin2_save_W) # weights are not the same\n",
    "assert forall(lambda p1, p2: p1 == p2, glin1_save_M, glin2_save_M) # masks are the same"
   ]
  },
  {
   "cell_type": "code",
   "execution_count": 6,
   "metadata": {},
   "outputs": [],
   "source": [
    "copy_weights(glin1, glin2) # copy weights ONLY\n",
    "glin2_save_M, glin2_save_W = save_M_params(glin2), save_W_params(glin2) # update saved weights\n",
    "assert forall(lambda p1, p2: p1 == p2, glin1_save_W, glin2_save_W) # saved weights are the same\n",
    "assert forall(lambda p1, p2: p1 == p2, glin1_save_M, glin2_save_M) # saved masks are the same"
   ]
  },
  {
   "cell_type": "code",
   "execution_count": 7,
   "metadata": {},
   "outputs": [],
   "source": [
    "# do a couple of steps of gradient descent on both\n",
    "dummy_x = torch.ones((1, 100))\n",
    "dummy_y1 = torch.ones((1, 100))\n",
    "dummy_y2 = torch.zeros((1, 100))\n",
    "\n",
    "optim1 = torch.optim.Adam(glin1.parameters(), lr=1)\n",
    "optim2 = torch.optim.Adam(glin2.parameters(), lr=1)\n",
    "criterion = torch.nn.MSELoss()\n",
    "\n",
    "for _ in range(3):\n",
    "    optim1.zero_grad()\n",
    "    optim2.zero_grad()\n",
    "    # gradient descent on first model\n",
    "    y_hat = glin1(dummy_x)\n",
    "    loss = criterion(y_hat, dummy_y1)\n",
    "    loss.backward()\n",
    "    \n",
    "    # gradient descent on the second model\n",
    "    y_hat = glin2(dummy_x)\n",
    "    loss = criterion(y_hat, dummy_y2)\n",
    "    loss.backward()\n",
    "    \n",
    "    optim1.step()\n",
    "    optim2.step()"
   ]
  },
  {
   "cell_type": "code",
   "execution_count": 8,
   "metadata": {},
   "outputs": [],
   "source": [
    "glin1_new_M, glin1_new_W = save_M_params(glin1), save_W_params(glin1) # update saved weights\n",
    "glin2_new_M, glin2_new_W = save_M_params(glin2), save_W_params(glin2) # update saved weights\n",
    "\n",
    "# all weights should have changed in both models\n",
    "assert forall(lambda p1, p2: p1 != p2, glin1_save_W + glin1_save_M, glin1_new_W + glin1_new_M)\n",
    "assert forall(lambda p1, p2: p1 != p2, glin2_save_W + glin2_save_M, glin2_new_W + glin2_new_M)\n",
    "\n",
    "assert forall(lambda p1, p2: p1 != p2, glin1_new_M, glin2_new_M) # masks should be different\n",
    "assert forall(lambda p1, p2: p1 == p2, glin1_new_W, glin2_new_W) # weights should be shared"
   ]
  }
 ]
}
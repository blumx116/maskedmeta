{
 "cells": [
  {
   "cell_type": "code",
   "execution_count": 11,
   "metadata": {},
   "outputs": [
    {
     "name": "stdout",
     "output_type": "stream",
     "text": [
      "torch.Size([1, 3, 28, 28])\n"
     ]
    }
   ],
   "source": [
    "import argparse\n",
    "import numpy as np\n",
    "import torch\n",
    "from torchvision import datasets, transforms\n",
    "from torch import nn, optim, autograd\n",
    "import matplotlib.pyplot as plt\n",
    "import torchvision\n",
    "from time import time\n",
    "\n",
    "dataset = datasets.MNIST('~/datasets/mnist', transform=transforms.ToTensor(), download=True)\n",
    "\n",
    "color = [1,0,0.5] #background color replacement\n",
    "#Note: all r-g-b colors should be defined from [0,1]\n",
    "\n",
    "coloredData = []\n",
    "for im in range(len(dataset)):\n",
    "    x, y = dataset[im]\n",
    "\n",
    "    origIm = x[0].numpy()\n",
    "    \n",
    "    converted = np.zeros((28,28,3))\n",
    "    for c in range(3):\n",
    "        converted[:,:,c] = origIm[:,:] + (1-origIm[:,:]) * color[c]\n",
    "    \n",
    "    converted = torch.unsqueeze(torch.from_numpy(converted).permute(2,0,1),0)\n",
    "    coloredData.append((converted,y))\n"
   ]
  },
  {
   "cell_type": "markdown",
   "metadata": {},
   "source": [
    "Note: template on how to display original mnist images & colored mnist images"
   ]
  },
  {
   "cell_type": "code",
   "execution_count": 12,
   "metadata": {},
   "outputs": [
    {
     "data": {
      "text/plain": [
       "<matplotlib.image.AxesImage at 0x1a818e324c0>"
      ]
     },
     "execution_count": 12,
     "metadata": {},
     "output_type": "execute_result"
    },
    {
     "data": {
      "image/png": "[encoded data removed]",
      "text/plain": [
       "<Figure size 432x288 with 1 Axes>"
      ]
     },
     "metadata": {
      "needs_background": "light"
     },
     "output_type": "display_data"
    },
    {
     "data": {
      "image/png": "[encoded data removed]",
      "text/plain": [
       "<Figure size 432x288 with 1 Axes>"
      ]
     },
     "metadata": {
      "needs_background": "light"
     },
     "output_type": "display_data"
    }
   ],
   "source": [
    "x, _ = dataset[7777] # x is now a torch.Tensor\n",
    "#note: datset is array of tuples\n",
    "\n",
    "plt.figure()\n",
    "plt.imshow(x[0].numpy(), cmap='gray')\n",
    "\n",
    "x, y = coloredData[7777]\n",
    "plt.figure()\n",
    "plt.imshow(np.transpose(x[0].numpy(), (1, 2, 0)))\n"
   ]
  },
  {
   "cell_type": "code",
   "execution_count": null,
   "metadata": {},
   "outputs": [],
   "source": []
  }
 ],
 "metadata": {
  "kernelspec": {
   "display_name": "Python 3",
   "language": "python",
   "name": "python3"
  },
  "language_info": {
   "codemirror_mode": {
    "name": "ipython",
    "version": 3
   },
   "file_extension": ".py",
   "mimetype": "text/x-python",
   "name": "python",
   "nbconvert_exporter": "python",
   "pygments_lexer": "ipython3",
   "version": "3.8.3"
  }
 },
 "nbformat": 4,
 "nbformat_minor": 4
}

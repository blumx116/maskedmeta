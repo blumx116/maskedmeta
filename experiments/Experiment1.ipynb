{
 "metadata": {
  "language_info": {
   "codemirror_mode": {
    "name": "ipython",
    "version": 3
   },
   "file_extension": ".py",
   "mimetype": "text/x-python",
   "name": "python",
   "nbconvert_exporter": "python",
   "pygments_lexer": "ipython3",
   "version": "3.8.5-final"
  },
  "orig_nbformat": 2,
  "kernelspec": {
   "name": "python3",
   "language": "python",
   "display_name": "Python 3"
  }
 },
 "nbformat": 4,
 "nbformat_minor": 2,
 "cells": [
  {
   "cell_type": "code",
   "execution_count": 15,
   "metadata": {},
   "outputs": [],
   "source": [
    "import os \n",
    "import sys \n",
    "sys.path.append(\"../src\")\n",
    "\n",
    "from typing import Tuple\n",
    "\n",
    "import matplotlib.pyplot as plt\n",
    "import numpy as np\n",
    "import torch\n",
    "import torch.nn as nn\n",
    "import torch.nn.functional as F\n",
    "from torch.optim import Adam\n",
    "\n",
    "from src.utils import seed, train\n",
    "from src.GatedLinear import GatedLinear"
   ]
  },
  {
   "cell_type": "code",
   "execution_count": 16,
   "outputs": [
    {
     "data": {
      "text/plain": "'1.19.2'"
     },
     "execution_count": 16,
     "metadata": {},
     "output_type": "execute_result"
    }
   ],
   "source": [
    "np.__version__"
   ],
   "metadata": {
    "collapsed": false,
    "pycharm": {
     "name": "#%%\n"
    }
   }
  },
  {
   "cell_type": "code",
   "execution_count": 17,
   "outputs": [
    {
     "data": {
      "text/plain": "'1.6.0'"
     },
     "execution_count": 17,
     "metadata": {},
     "output_type": "execute_result"
    }
   ],
   "source": [
    "torch.__version__"
   ],
   "metadata": {
    "collapsed": false,
    "pycharm": {
     "name": "#%%\n"
    }
   }
  },
  {
   "cell_type": "code",
   "execution_count": 18,
   "metadata": {},
   "outputs": [],
   "source": [
    "class ExperimentOneTask:\n",
    "    def __init__(self, weights, bias=None, input_range=None):\n",
    "        self.in_features = weights.shape[1]\n",
    "        self.weights = weights\n",
    "        self.bias = bias\n",
    "        self.input_range = input_range\n",
    "        \n",
    "    def sample(self, count: int) -> torch.Tensor:\n",
    "        with torch.no_grad():\n",
    "            xs = torch.randn(count, self.in_features).float()\n",
    "            if self.input_range is not None:\n",
    "                xs = torch.clamp(xs, *self.input_range)\n",
    "            ys = F.linear(xs, self.weights, self.bias)\n",
    "            return xs, ys"
   ]
  },
  {
   "cell_type": "code",
   "execution_count": 19,
   "metadata": {},
   "outputs": [],
   "source": [
    "class ExperimentOneGenerator:\n",
    "    def __init__(self, in_features, out_features, input_range: Tuple[int, int] = None, bias=True, mask_proba: float=0.5):\n",
    "        self.in_features = in_features\n",
    "        self.out_features = out_features\n",
    "        self.input_range = input_range\n",
    "        self.has_bias = bias\n",
    "        self.mask_proba = mask_proba\n",
    "        \n",
    "        self.weights = np.random.uniform(size=(self.out_features, self.in_features))\n",
    "        if self.has_bias:\n",
    "            self.bias = np.random.uniform(size=(self.out_features,))\n",
    "            \n",
    "    def createTask(self):\n",
    "        weight_mask = np.random.uniform(size=(self.out_features, self.in_features)) < self.mask_proba\n",
    "        task_weights = torch.from_numpy(self.weights * weight_mask).float()\n",
    "        \n",
    "        if self.has_bias:\n",
    "            bias_mask = np.random.uniform(size=(self.out_features, )) < self.mask_proba\n",
    "            task_bias = torch.from_numpy(self.bias * bias_mask).float()\n",
    "        else:\n",
    "            task_bias = None\n",
    "            \n",
    "        return ExperimentOneTask(task_weights, task_bias, self.input_range)"
   ]
  },
  {
   "source": [
    "# Plot the Data"
   ],
   "cell_type": "markdown",
   "metadata": {}
  },
  {
   "cell_type": "code",
   "execution_count": 20,
   "metadata": {},
   "outputs": [],
   "source": [
    "gen1 = ExperimentOneGenerator(2, 1)\n",
    "seed(1) \n",
    "task1 = gen1.createTask() # currently has second variable 'turned off'\n",
    "task2 = gen1.createTask() # both variables on"
   ]
  },
  {
   "cell_type": "code",
   "execution_count": 21,
   "metadata": {},
   "outputs": [],
   "source": [
    "train1x, train1y = task1.sample(50)\n",
    "train2x, train2y = task2.sample(50)"
   ]
  },
  {
   "cell_type": "code",
   "execution_count": 22,
   "metadata": {},
   "outputs": [
    {
     "data": {
      "text/plain": "(tensor([[0.6504, 0.0000]]), tensor([0.5877]))"
     },
     "execution_count": 22,
     "metadata": {},
     "output_type": "execute_result"
    }
   ],
   "source": [
    "task1.weights, task1.bias"
   ]
  },
  {
   "cell_type": "code",
   "execution_count": 23,
   "metadata": {},
   "outputs": [
    {
     "data": {
      "text/plain": "(tensor([[0.6504, 0.8022]]), tensor([0.5877]))"
     },
     "execution_count": 23,
     "metadata": {},
     "output_type": "execute_result"
    }
   ],
   "source": [
    "task2.weights, task2.bias"
   ]
  },
  {
   "cell_type": "code",
   "execution_count": 24,
   "metadata": {},
   "outputs": [
    {
     "data": {
      "text/plain": "<matplotlib.legend.Legend at 0x1fdb48644c0>"
     },
     "execution_count": 24,
     "metadata": {},
     "output_type": "execute_result"
    },
    {
     "data": {
      "text/plain": "<Figure size 432x288 with 1 Axes>",
      "image/png": "[encoded data removed]"
     },
     "metadata": {
      "needs_background": "light"
     },
     "output_type": "display_data"
    }
   ],
   "source": [
    "plt.title(\"Task 1 Data = First variable matters\")\n",
    "plt.scatter(train1x[:,0], train1y)\n",
    "plt.scatter(train1x[:,1], train1y)\n",
    "plt.xlabel(\"Input\")\n",
    "plt.ylabel(\"Target\")\n",
    "plt.legend([\"x1\", \"x2\"])"
   ]
  },
  {
   "source": [
    "### One looks like complete noise, the other is perfect fit"
   ],
   "cell_type": "markdown",
   "metadata": {}
  },
  {
   "cell_type": "code",
   "execution_count": 25,
   "metadata": {},
   "outputs": [
    {
     "data": {
      "text/plain": "<matplotlib.legend.Legend at 0x1fdbb1a35b0>"
     },
     "execution_count": 25,
     "metadata": {},
     "output_type": "execute_result"
    },
    {
     "data": {
      "text/plain": "<Figure size 432x288 with 1 Axes>",
      "image/png": "[encoded data removed]"
     },
     "metadata": {
      "needs_background": "light"
     },
     "output_type": "display_data"
    }
   ],
   "source": [
    "plt.title(\"Task 1 Data = First variable matters\")\n",
    "plt.scatter(train2x[:,0], train2y)\n",
    "plt.scatter(train2x[:,1], train2y)\n",
    "plt.xlabel(\"Input\")\n",
    "plt.ylabel(\"Target\")\n",
    "plt.legend([\"x1\", \"x2\"])"
   ]
  },
  {
   "source": [
    "### Both are somewhat fits, but the variable that was previously stronger is no longer perfect fit"
   ],
   "cell_type": "markdown",
   "metadata": {}
  },
  {
   "cell_type": "code",
   "execution_count": 54,
   "metadata": {},
   "outputs": [],
   "source": [
    "np.random.seed(0)\n",
    "exp1 = ExperimentOneGenerator(2, 1, mask_proba=0.5)\n",
    "tasks = [exp1.createTask() for _ in range(5)]\n",
    "trainsets = [task.sample(5000) for task in tasks]\n",
    "testsets = [task.sample(5000) for task in tasks]"
   ]
  },
  {
   "cell_type": "code",
   "execution_count": 55,
   "metadata": {},
   "outputs": [],
   "source": [
    "make_model = lambda : GatedLinear(2, 1)\n",
    "make_optim = lambda params: Adam(params, lr=3e-4)\n",
    "criterion = nn.MSELoss()"
   ]
  },
  {
   "cell_type": "code",
   "execution_count": 56,
   "metadata": {},
   "outputs": [
    {
     "data": {
      "text/plain": "HBox(children=(HTML(value='Training'), FloatProgress(value=0.0, max=300000.0), HTML(value='')))",
      "application/vnd.jupyter.widget-view+json": {
       "version_major": 2,
       "version_minor": 0,
       "model_id": "51642c218de24b57b42161ad64123b62"
      }
     },
     "metadata": {},
     "output_type": "display_data"
    },
    {
     "name": "stdout",
     "output_type": "stream",
     "text": [
      "\n"
     ]
    }
   ],
   "source": [
    "models, optims, losses = train(\n",
    "    make_model,\n",
    "    make_optim,\n",
    "    tasks=trainsets, criterion=criterion,\n",
    "    n_epochs=300000)"
   ]
  },
  {
   "cell_type": "code",
   "execution_count": 57,
   "metadata": {
    "pycharm": {
     "name": "#%%\n"
    }
   },
   "outputs": [
    {
     "data": {
      "text/plain": "[<matplotlib.lines.Line2D at 0x1fdc4ef21f0>]"
     },
     "execution_count": 57,
     "metadata": {},
     "output_type": "execute_result"
    },
    {
     "data": {
      "text/plain": "<Figure size 432x288 with 1 Axes>",
      "image/png": "[encoded data removed]"
     },
     "metadata": {
      "needs_background": "light"
     },
     "output_type": "display_data"
    }
   ],
   "source": [
    "plt.plot(losses[0])\n",
    "plt.plot(losses[1])"
   ]
  },
  {
   "cell_type": "code",
   "execution_count": 58,
   "outputs": [
    {
     "name": "stdout",
     "output_type": "stream",
     "text": [
      "task 0 raw weights Parameter containing:\n",
      "tensor([[0.5599, 0.7156]], requires_grad=True)\n",
      "task 0 computed weights:  tensor([[5.5599e-05, 7.1551e-01]], grad_fn=<MulBackward0>)\n",
      "task 0 correct weights:  tensor([[0.0000, 0.7152]])\n",
      "====================\n",
      "task 1 raw weights Parameter containing:\n",
      "tensor([[0.5599, 0.7156]], requires_grad=True)\n",
      "task 1 computed weights:  tensor([[5.4900e-01, 4.1565e-05]], grad_fn=<MulBackward0>)\n",
      "task 1 correct weights:  tensor([[0.5488, 0.0000]])\n",
      "====================\n",
      "task 2 raw weights Parameter containing:\n",
      "tensor([[0.5599, 0.7156]], requires_grad=True)\n",
      "task 2 computed weights:  tensor([[5.4898e-01, 4.2787e-05]], grad_fn=<MulBackward0>)\n",
      "task 2 correct weights:  tensor([[0.5488, 0.0000]])\n",
      "====================\n",
      "task 3 raw weights Parameter containing:\n",
      "tensor([[0.5599, 0.7156]], requires_grad=True)\n",
      "task 3 computed weights:  tensor([[0.0061, 0.0235]], grad_fn=<MulBackward0>)\n",
      "task 3 correct weights:  tensor([[0., 0.]])\n",
      "====================\n",
      "task 4 raw weights Parameter containing:\n",
      "tensor([[0.5599, 0.7156]], requires_grad=True)\n",
      "task 4 computed weights:  tensor([[0.5490, 0.7155]], grad_fn=<MulBackward0>)\n",
      "task 4 correct weights:  tensor([[0.5488, 0.7152]])\n",
      "====================\n"
     ]
    }
   ],
   "source": [
    "for n in range(len(tasks)):\n",
    "    print(f\"task {n} raw weights\", models[n].WW)\n",
    "    print(f\"task {n} computed weights: \", GatedLinear.gated(models[n].WW, models[n].WM))\n",
    "    print(f\"task {n} correct weights: \", tasks[n].weights)\n",
    "    print(\"====================\")"
   ],
   "metadata": {
    "collapsed": false,
    "pycharm": {
     "name": "#%%\n"
    }
   }
  },
  {
   "cell_type": "code",
   "execution_count": 59,
   "outputs": [
    {
     "name": "stdout",
     "output_type": "stream",
     "text": [
      "task 0 mask:  tensor([[9.9294e-05, 9.9986e-01]], grad_fn=<SigmoidBackward>)\n",
      "task 0 correct mask:  tensor([[0., 1.]])\n",
      "task 1 mask:  tensor([[9.8045e-01, 5.8084e-05]], grad_fn=<SigmoidBackward>)\n",
      "task 1 correct mask:  tensor([[1., 0.]])\n",
      "task 2 mask:  tensor([[9.8042e-01, 5.9792e-05]], grad_fn=<SigmoidBackward>)\n",
      "task 2 correct mask:  tensor([[1., 0.]])\n",
      "task 3 mask:  tensor([[0.0110, 0.0328]], grad_fn=<SigmoidBackward>)\n",
      "task 3 correct mask:  tensor([[0., 0.]])\n",
      "task 4 mask:  tensor([[0.9804, 0.9999]], grad_fn=<SigmoidBackward>)\n",
      "task 4 correct mask:  tensor([[1., 1.]])\n"
     ]
    }
   ],
   "source": [
    "for n in range(len(tasks)):\n",
    "    print(f\"task {n} mask: \", torch.sigmoid(models[n].WM))\n",
    "    print(f\"task {n} correct mask: \", (tasks[n].weights != 0).float())"
   ],
   "metadata": {
    "collapsed": false,
    "pycharm": {
     "name": "#%%\n"
    }
   }
  },
  {
   "cell_type": "code",
   "execution_count": null,
   "outputs": [],
   "source": [
    "from src.LeNet import LeNet5\n",
    "\n",
    "make_model = lambda : LeNet5(gated=True)\n",
    "make_model = lambda : LeNet5(gated=False)"
   ],
   "metadata": {
    "collapsed": false,
    "pycharm": {
     "name": "#%%\n"
    }
   }
  }
 ]
}
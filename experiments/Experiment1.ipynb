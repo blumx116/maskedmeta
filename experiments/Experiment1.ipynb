{
 "metadata": {
  "language_info": {
   "codemirror_mode": {
    "name": "ipython",
    "version": 3
   },
   "file_extension": ".py",
   "mimetype": "text/x-python",
   "name": "python",
   "nbconvert_exporter": "python",
   "pygments_lexer": "ipython3",
   "version": "3.8.5-final"
  },
  "orig_nbformat": 2,
  "kernelspec": {
   "name": "python3",
   "language": "python",
   "display_name": "Python 3"
  }
 },
 "nbformat": 4,
 "nbformat_minor": 2,
 "cells": [
  {
   "cell_type": "code",
   "execution_count": 15,
   "metadata": {},
   "outputs": [],
   "source": [
    "import os \n",
    "import sys \n",
    "sys.path.append(\"../src\")\n",
    "\n",
    "from typing import Tuple\n",
    "\n",
    "import matplotlib.pyplot as plt\n",
    "import numpy as np\n",
    "import torch\n",
    "import torch.nn as nn\n",
    "import torch.nn.functional as F\n",
    "from torch.optim import Adam\n",
    "\n",
    "from src.utils import seed, train\n",
    "from src.GatedLinear import GatedLinear"
   ]
  },
  {
   "cell_type": "code",
   "execution_count": 16,
   "outputs": [
    {
     "data": {
      "text/plain": "'1.19.2'"
     },
     "execution_count": 16,
     "metadata": {},
     "output_type": "execute_result"
    }
   ],
   "source": [
    "np.__version__"
   ],
   "metadata": {
    "collapsed": false,
    "pycharm": {
     "name": "#%%\n"
    }
   }
  },
  {
   "cell_type": "code",
   "execution_count": 17,
   "outputs": [
    {
     "data": {
      "text/plain": "'1.6.0'"
     },
     "execution_count": 17,
     "metadata": {},
     "output_type": "execute_result"
    }
   ],
   "source": [
    "torch.__version__"
   ],
   "metadata": {
    "collapsed": false,
    "pycharm": {
     "name": "#%%\n"
    }
   }
  },
  {
   "cell_type": "code",
   "execution_count": 18,
   "metadata": {},
   "outputs": [],
   "source": [
    "class ExperimentOneTask:\n",
    "    def __init__(self, weights, bias=None, input_range=None):\n",
    "        self.in_features = weights.shape[1]\n",
    "        self.weights = weights\n",
    "        self.bias = bias\n",
    "        self.input_range = input_range\n",
    "        \n",
    "    def sample(self, count: int) -> torch.Tensor:\n",
    "        with torch.no_grad():\n",
    "            xs = torch.randn(count, self.in_features).float()\n",
    "            if self.input_range is not None:\n",
    "                xs = torch.clamp(xs, *self.input_range)\n",
    "            ys = F.linear(xs, self.weights, self.bias)\n",
    "            return xs, ys"
   ]
  },
  {
   "cell_type": "code",
   "execution_count": 19,
   "metadata": {},
   "outputs": [],
   "source": [
    "class ExperimentOneGenerator:\n",
    "    def __init__(self, in_features, out_features, input_range: Tuple[int, int] = None, bias=True, mask_proba: float=0.5):\n",
    "        self.in_features = in_features\n",
    "        self.out_features = out_features\n",
    "        self.input_range = input_range\n",
    "        self.has_bias = bias\n",
    "        self.mask_proba = mask_proba\n",
    "        \n",
    "        self.weights = np.random.uniform(size=(self.out_features, self.in_features))\n",
    "        if self.has_bias:\n",
    "            self.bias = np.random.uniform(size=(self.out_features,))\n",
    "            \n",
    "    def createTask(self):\n",
    "        weight_mask = np.random.uniform(size=(self.out_features, self.in_features)) < self.mask_proba\n",
    "        task_weights = torch.from_numpy(self.weights * weight_mask).float()\n",
    "        \n",
    "        if self.has_bias:\n",
    "            bias_mask = np.random.uniform(size=(self.out_features, )) < self.mask_proba\n",
    "            task_bias = torch.from_numpy(self.bias * bias_mask).float()\n",
    "        else:\n",
    "            task_bias = None\n",
    "            \n",
    "        return ExperimentOneTask(task_weights, task_bias, self.input_range)"
   ]
  },
  {
   "source": [
    "# Plot the Data"
   ],
   "cell_type": "markdown",
   "metadata": {}
  },
  {
   "cell_type": "code",
   "execution_count": 20,
   "metadata": {},
   "outputs": [],
   "source": [
    "gen1 = ExperimentOneGenerator(2, 1)\n",
    "seed(1) \n",
    "task1 = gen1.createTask() # currently has second variable 'turned off'\n",
    "task2 = gen1.createTask() # both variables on"
   ]
  },
  {
   "cell_type": "code",
   "execution_count": 21,
   "metadata": {},
   "outputs": [],
   "source": [
    "train1x, train1y = task1.sample(50)\n",
    "train2x, train2y = task2.sample(50)"
   ]
  },
  {
   "cell_type": "code",
   "execution_count": 22,
   "metadata": {},
   "outputs": [
    {
     "data": {
      "text/plain": "(tensor([[0.6504, 0.0000]]), tensor([0.5877]))"
     },
     "execution_count": 22,
     "metadata": {},
     "output_type": "execute_result"
    }
   ],
   "source": [
    "task1.weights, task1.bias"
   ]
  },
  {
   "cell_type": "code",
   "execution_count": 23,
   "metadata": {},
   "outputs": [
    {
     "data": {
      "text/plain": "(tensor([[0.6504, 0.8022]]), tensor([0.5877]))"
     },
     "execution_count": 23,
     "metadata": {},
     "output_type": "execute_result"
    }
   ],
   "source": [
    "task2.weights, task2.bias"
   ]
  },
  {
   "cell_type": "code",
   "execution_count": 24,
   "metadata": {},
   "outputs": [
    {
     "data": {
      "text/plain": "<matplotlib.legend.Legend at 0x1fdb48644c0>"
     },
     "execution_count": 24,
     "metadata": {},
     "output_type": "execute_result"
    },
    {
     "data": {
      "text/plain": "<Figure size 432x288 with 1 Axes>",
      "image/png": "[encoded data removed]"
     },
     "metadata": {
      "needs_background": "light"
     },
     "output_type": "display_data"
    }
   ],
   "source": [
    "plt.title(\"Task 1 Data = First variable matters\")\n",
    "plt.scatter(train1x[:,0], train1y)\n",
    "plt.scatter(train1x[:,1], train1y)\n",
    "plt.xlabel(\"Input\")\n",
    "plt.ylabel(\"Target\")\n",
    "plt.legend([\"x1\", \"x2\"])"
   ]
  },
  {
   "source": [
    "### One looks like complete noise, the other is perfect fit"
   ],
   "cell_type": "markdown",
   "metadata": {}
  },
  {
   "cell_type": "code",
   "execution_count": 25,
   "metadata": {},
   "outputs": [
    {
     "data": {
      "text/plain": "<matplotlib.legend.Legend at 0x1fdbb1a35b0>"
     },
     "execution_count": 25,
     "metadata": {},
     "output_type": "execute_result"
    },
    {
     "data": {
      "text/plain": "<Figure size 432x288 with 1 Axes>",
      "image/png": "[encoded data removed]"
     },
     "metadata": {
      "needs_background": "light"
     },
     "output_type": "display_data"
    }
   ],
   "source": [
    "plt.title(\"Task 1 Data = First variable matters\")\n",
    "plt.scatter(train2x[:,0], train2y)\n",
    "plt.scatter(train2x[:,1], train2y)\n",
    "plt.xlabel(\"Input\")\n",
    "plt.ylabel(\"Target\")\n",
    "plt.legend([\"x1\", \"x2\"])"
   ]
  },
  {
   "source": [
    "### Both are somewhat fits, but the variable that was previously stronger is no longer perfect fit"
   ],
   "cell_type": "markdown",
   "metadata": {}
  },
  {
   "cell_type": "code",
   "execution_count": 42,
   "metadata": {},
   "outputs": [],
   "source": [
    "np.random.seed(0)\n",
    "exp1 = ExperimentOneGenerator(5, 1, mask_proba=0.5)\n",
    "tasks = [exp1.createTask() for _ in range(20)]\n",
    "trainsets = [task.sample(5000) for task in tasks]\n",
    "testsets = [task.sample(5000) for task in tasks]"
   ]
  },
  {
   "cell_type": "code",
   "execution_count": 43,
   "metadata": {},
   "outputs": [],
   "source": [
    "make_model = lambda : GatedLinear(5, 1)\n",
    "make_optim = lambda params: Adam(params, lr=3e-4)\n",
    "criterion = nn.MSELoss()"
   ]
  },
  {
   "cell_type": "code",
   "execution_count": 44,
   "metadata": {},
   "outputs": [
    {
     "data": {
      "text/plain": "HBox(children=(HTML(value='Training'), FloatProgress(value=0.0, max=200000.0), HTML(value='')))",
      "application/vnd.jupyter.widget-view+json": {
       "version_major": 2,
       "version_minor": 0,
       "model_id": "9d5ecfe7672a4c468ce94588458d1310"
      }
     },
     "metadata": {},
     "output_type": "display_data"
    },
    {
     "name": "stdout",
     "output_type": "stream",
     "text": [
      "\n"
     ]
    }
   ],
   "source": [
    "models, optims, losses = train(\n",
    "    make_model,\n",
    "    make_optim,\n",
    "    tasks=trainsets, criterion=criterion,\n",
    "    n_epochs=200000)"
   ]
  },
  {
   "cell_type": "code",
   "execution_count": 38,
   "metadata": {
    "pycharm": {
     "name": "#%%\n"
    }
   },
   "outputs": [
    {
     "data": {
      "text/plain": "[<matplotlib.lines.Line2D at 0x1fdc43763d0>]"
     },
     "execution_count": 38,
     "metadata": {},
     "output_type": "execute_result"
    },
    {
     "data": {
      "text/plain": "<Figure size 432x288 with 1 Axes>",
      "image/png": "[encoded data removed]"
     },
     "metadata": {
      "needs_background": "light"
     },
     "output_type": "display_data"
    }
   ],
   "source": [
    "plt.plot(losses[0])\n",
    "plt.plot(losses[1])"
   ]
  },
  {
   "cell_type": "code",
   "execution_count": 39,
   "outputs": [
    {
     "name": "stdout",
     "output_type": "stream",
     "text": [
      "task 0 raw weights Parameter containing:\n",
      "tensor([[0.5890, 0.8699]], requires_grad=True)\n",
      "task 0 computed weights:  tensor([[0.1343, 0.6134]], grad_fn=<MulBackward0>)\n",
      "task 0 correct weights:  tensor([[0.0000, 0.7152]])\n",
      "====================\n",
      "task 1 raw weights Parameter containing:\n",
      "tensor([[0.5890, 0.8699]], requires_grad=True)\n",
      "task 1 computed weights:  tensor([[0.4401, 0.1891]], grad_fn=<MulBackward0>)\n",
      "task 1 correct weights:  tensor([[0.5488, 0.0000]])\n",
      "====================\n",
      "task 2 raw weights Parameter containing:\n",
      "tensor([[0.5890, 0.8699]], requires_grad=True)\n",
      "task 2 computed weights:  tensor([[0.4388, 0.1914]], grad_fn=<MulBackward0>)\n",
      "task 2 correct weights:  tensor([[0.5488, 0.0000]])\n",
      "====================\n",
      "task 3 raw weights Parameter containing:\n",
      "tensor([[0.5890, 0.8699]], requires_grad=True)\n",
      "task 3 computed weights:  tensor([[0.1368, 0.1967]], grad_fn=<MulBackward0>)\n",
      "task 3 correct weights:  tensor([[0., 0.]])\n",
      "====================\n",
      "task 4 raw weights Parameter containing:\n",
      "tensor([[0.5890, 0.8699]], requires_grad=True)\n",
      "task 4 computed weights:  tensor([[0.4354, 0.6154]], grad_fn=<MulBackward0>)\n",
      "task 4 correct weights:  tensor([[0.5488, 0.7152]])\n",
      "====================\n",
      "task 5 raw weights Parameter containing:\n",
      "tensor([[0.5890, 0.8699]], requires_grad=True)\n",
      "task 5 computed weights:  tensor([[0.1278, 0.1934]], grad_fn=<MulBackward0>)\n",
      "task 5 correct weights:  tensor([[0., 0.]])\n",
      "====================\n",
      "task 6 raw weights Parameter containing:\n",
      "tensor([[0.5890, 0.8699]], requires_grad=True)\n",
      "task 6 computed weights:  tensor([[0.1339, 0.6155]], grad_fn=<MulBackward0>)\n",
      "task 6 correct weights:  tensor([[0.0000, 0.7152]])\n",
      "====================\n",
      "task 7 raw weights Parameter containing:\n",
      "tensor([[0.5890, 0.8699]], requires_grad=True)\n",
      "task 7 computed weights:  tensor([[0.4320, 0.2020]], grad_fn=<MulBackward0>)\n",
      "task 7 correct weights:  tensor([[0.5488, 0.0000]])\n",
      "====================\n",
      "task 8 raw weights Parameter containing:\n",
      "tensor([[0.5890, 0.8699]], requires_grad=True)\n",
      "task 8 computed weights:  tensor([[0.1391, 0.1991]], grad_fn=<MulBackward0>)\n",
      "task 8 correct weights:  tensor([[0., 0.]])\n",
      "====================\n",
      "task 9 raw weights Parameter containing:\n",
      "tensor([[0.5890, 0.8699]], requires_grad=True)\n",
      "task 9 computed weights:  tensor([[0.4311, 0.2024]], grad_fn=<MulBackward0>)\n",
      "task 9 correct weights:  tensor([[0.5488, 0.0000]])\n",
      "====================\n",
      "task 10 raw weights Parameter containing:\n",
      "tensor([[0.5890, 0.8699]], requires_grad=True)\n",
      "task 10 computed weights:  tensor([[0.1347, 0.6153]], grad_fn=<MulBackward0>)\n",
      "task 10 correct weights:  tensor([[0.0000, 0.7152]])\n",
      "====================\n",
      "task 11 raw weights Parameter containing:\n",
      "tensor([[0.5890, 0.8699]], requires_grad=True)\n",
      "task 11 computed weights:  tensor([[0.1325, 0.1995]], grad_fn=<MulBackward0>)\n",
      "task 11 correct weights:  tensor([[0., 0.]])\n",
      "====================\n",
      "task 12 raw weights Parameter containing:\n",
      "tensor([[0.5890, 0.8699]], requires_grad=True)\n",
      "task 12 computed weights:  tensor([[0.1402, 0.6090]], grad_fn=<MulBackward0>)\n",
      "task 12 correct weights:  tensor([[0.0000, 0.7152]])\n",
      "====================\n",
      "task 13 raw weights Parameter containing:\n",
      "tensor([[0.5890, 0.8699]], requires_grad=True)\n",
      "task 13 computed weights:  tensor([[0.1339, 0.6119]], grad_fn=<MulBackward0>)\n",
      "task 13 correct weights:  tensor([[0.0000, 0.7152]])\n",
      "====================\n",
      "task 14 raw weights Parameter containing:\n",
      "tensor([[0.5890, 0.8699]], requires_grad=True)\n",
      "task 14 computed weights:  tensor([[0.1404, 0.6120]], grad_fn=<MulBackward0>)\n",
      "task 14 correct weights:  tensor([[0.0000, 0.7152]])\n",
      "====================\n",
      "task 15 raw weights Parameter containing:\n",
      "tensor([[0.5890, 0.8699]], requires_grad=True)\n",
      "task 15 computed weights:  tensor([[0.4357, 0.6167]], grad_fn=<MulBackward0>)\n",
      "task 15 correct weights:  tensor([[0.5488, 0.7152]])\n",
      "====================\n",
      "task 16 raw weights Parameter containing:\n",
      "tensor([[0.5890, 0.8699]], requires_grad=True)\n",
      "task 16 computed weights:  tensor([[0.4355, 0.1996]], grad_fn=<MulBackward0>)\n",
      "task 16 correct weights:  tensor([[0.5488, 0.0000]])\n",
      "====================\n",
      "task 17 raw weights Parameter containing:\n",
      "tensor([[0.5890, 0.8699]], requires_grad=True)\n",
      "task 17 computed weights:  tensor([[0.4330, 0.6122]], grad_fn=<MulBackward0>)\n",
      "task 17 correct weights:  tensor([[0.5488, 0.7152]])\n",
      "====================\n",
      "task 18 raw weights Parameter containing:\n",
      "tensor([[0.5890, 0.8699]], requires_grad=True)\n",
      "task 18 computed weights:  tensor([[0.4302, 0.6094]], grad_fn=<MulBackward0>)\n",
      "task 18 correct weights:  tensor([[0.5488, 0.7152]])\n",
      "====================\n",
      "task 19 raw weights Parameter containing:\n",
      "tensor([[0.5890, 0.8699]], requires_grad=True)\n",
      "task 19 computed weights:  tensor([[0.4338, 0.6162]], grad_fn=<MulBackward0>)\n",
      "task 19 correct weights:  tensor([[0.5488, 0.7152]])\n",
      "====================\n"
     ]
    }
   ],
   "source": [
    "for n in range(len(tasks)):\n",
    "    print(f\"task {n} raw weights\", models[n].WW)\n",
    "    print(f\"task {n} computed weights: \", GatedLinear.gated(models[n].WW, models[n].WM))\n",
    "    print(f\"task {n} correct weights: \", tasks[n].weights)\n",
    "    print(\"====================\")"
   ],
   "metadata": {
    "collapsed": false,
    "pycharm": {
     "name": "#%%\n"
    }
   }
  },
  {
   "cell_type": "code",
   "execution_count": 40,
   "outputs": [
    {
     "name": "stdout",
     "output_type": "stream",
     "text": [
      "task 0 mask:  tensor([[0.2280, 0.7052]], grad_fn=<SigmoidBackward>)\n",
      "task 0 correct mask:  tensor([[0., 1.]])\n",
      "task 1 mask:  tensor([[0.7472, 0.2174]], grad_fn=<SigmoidBackward>)\n",
      "task 1 correct mask:  tensor([[1., 0.]])\n",
      "task 2 mask:  tensor([[0.7449, 0.2200]], grad_fn=<SigmoidBackward>)\n",
      "task 2 correct mask:  tensor([[1., 0.]])\n",
      "task 3 mask:  tensor([[0.2323, 0.2261]], grad_fn=<SigmoidBackward>)\n",
      "task 3 correct mask:  tensor([[0., 0.]])\n",
      "task 4 mask:  tensor([[0.7391, 0.7074]], grad_fn=<SigmoidBackward>)\n",
      "task 4 correct mask:  tensor([[1., 1.]])\n",
      "task 5 mask:  tensor([[0.2170, 0.2223]], grad_fn=<SigmoidBackward>)\n",
      "task 5 correct mask:  tensor([[0., 0.]])\n",
      "task 6 mask:  tensor([[0.2273, 0.7076]], grad_fn=<SigmoidBackward>)\n",
      "task 6 correct mask:  tensor([[0., 1.]])\n",
      "task 7 mask:  tensor([[0.7334, 0.2322]], grad_fn=<SigmoidBackward>)\n",
      "task 7 correct mask:  tensor([[1., 0.]])\n",
      "task 8 mask:  tensor([[0.2361, 0.2289]], grad_fn=<SigmoidBackward>)\n",
      "task 8 correct mask:  tensor([[0., 0.]])\n",
      "task 9 mask:  tensor([[0.7318, 0.2327]], grad_fn=<SigmoidBackward>)\n",
      "task 9 correct mask:  tensor([[1., 0.]])\n",
      "task 10 mask:  tensor([[0.2286, 0.7073]], grad_fn=<SigmoidBackward>)\n",
      "task 10 correct mask:  tensor([[0., 1.]])\n",
      "task 11 mask:  tensor([[0.2249, 0.2294]], grad_fn=<SigmoidBackward>)\n",
      "task 11 correct mask:  tensor([[0., 0.]])\n",
      "task 12 mask:  tensor([[0.2379, 0.7001]], grad_fn=<SigmoidBackward>)\n",
      "task 12 correct mask:  tensor([[0., 1.]])\n",
      "task 13 mask:  tensor([[0.2273, 0.7035]], grad_fn=<SigmoidBackward>)\n",
      "task 13 correct mask:  tensor([[0., 1.]])\n",
      "task 14 mask:  tensor([[0.2383, 0.7036]], grad_fn=<SigmoidBackward>)\n",
      "task 14 correct mask:  tensor([[0., 1.]])\n",
      "task 15 mask:  tensor([[0.7397, 0.7090]], grad_fn=<SigmoidBackward>)\n",
      "task 15 correct mask:  tensor([[1., 1.]])\n",
      "task 16 mask:  tensor([[0.7393, 0.2294]], grad_fn=<SigmoidBackward>)\n",
      "task 16 correct mask:  tensor([[1., 0.]])\n",
      "task 17 mask:  tensor([[0.7351, 0.7038]], grad_fn=<SigmoidBackward>)\n",
      "task 17 correct mask:  tensor([[1., 1.]])\n",
      "task 18 mask:  tensor([[0.7304, 0.7006]], grad_fn=<SigmoidBackward>)\n",
      "task 18 correct mask:  tensor([[1., 1.]])\n",
      "task 19 mask:  tensor([[0.7365, 0.7083]], grad_fn=<SigmoidBackward>)\n",
      "task 19 correct mask:  tensor([[1., 1.]])\n"
     ]
    }
   ],
   "source": [
    "for n in range(len(tasks)):\n",
    "    print(f\"task {n} mask: \", torch.sigmoid(models[n].WM))\n",
    "    print(f\"task {n} correct mask: \", (tasks[n].weights != 0).float())"
   ],
   "metadata": {
    "collapsed": false,
    "pycharm": {
     "name": "#%%\n"
    }
   }
  }
 ]
}